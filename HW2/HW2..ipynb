﻿{
  "metadata": {
    "name": "HW2",
    "kernelspec": {
      "language": "scala",
      "name": "spark2-scala"
    },
    "language_info": {
      "codemirror_mode": "text/x-scala",
      "file_extension": ".scala",
      "mimetype": "text/x-scala",
      "name": "scala",
      "pygments_lexer": "scala"
    }
  },
  "nbformat": 4,
  "nbformat_minor": 2,
  "cells": [
    {
      "cell_type": "code",
      "execution_count": 0,
      "metadata": {
        "autoscroll": "auto"
      },
      "outputs": [],
      "source": "%pyspark\nimport pyspark.sql.functions as f\npath \u003d \u0027/datasets/sf-fire-calls.csv\u0027\ndf_calls \u003d spark.read\\\n            .option(\"header\", \u0027true\u0027)\\\n            .option(\"dateFormat\", \"dd/MM/yyyy\")\\\n            .option(\"timestampFormat\", \"dd/MM/yyyy HH:mm:ss a\")\\\n            .option(\"inferSchema\", \"true\")\\\n            .csv(path)\ndf_calls.printSchema()\nz.show(df_calls.limit(20))"
    },
    {
      "cell_type": "markdown",
      "metadata": {},
      "source": "# what were all the different types of fire calls in 2018?"
    },
    {
      "cell_type": "code",
      "execution_count": 2,
      "metadata": {
        "autoscroll": "auto"
      },
      "outputs": [],
      "source": "%pyspark\n# .asc() по возрастанию\n# здесь сделал без datetime\nyear \u003d \u00272018\u0027\nfire_types \u003d df_calls\\\n            .filter(df_calls[\"CallDate\"].contains(year))\\\n            .groupBy(\"CallType\")\\\n            .agg(f.count(\u0027*\u0027))\\\n            .sort(f.col(\u0027count(1)\u0027).desc())\\\n            .collect()\n\nprint(\"Different types of fire calls in {}:\".format(year))\nprint(\u0027 -- \u0027 + \u0027,\\n -- \u0027.join([str(fire_type[0]) for fire_type in fire_types]))"
    },
    {
      "cell_type": "markdown",
      "metadata": {},
      "source": "# what month within the year 2018 saw the highest number of fire calls?"
    },
    {
      "cell_type": "code",
      "execution_count": 4,
      "metadata": {
        "autoscroll": "auto"
      },
      "outputs": [],
      "source": "%pyspark\ndf_calls.select(f.month(\"AvailableDtTm\").alias(\u0027MONTH\u0027))\\\n        .filter(f.year(\"AvailableDtTm\") \u003d\u003d 2018)\\\n        .groupBy(\u0027MONTH\u0027)\\\n        .agg(f.count(\u0027*\u0027).alias(\u0027count(Calls)\u0027))\\\n        .sort(f.col(\u0027count(Calls)\u0027).desc())\\\n        .show()"
    },
    {
      "cell_type": "code",
      "execution_count": 5,
      "metadata": {
        "autoscroll": "auto"
      },
      "outputs": [],
      "source": "%pyspark\nyear \u003d 2018\ndf_calls.select(f.month(\"AvailableDtTm\").alias(\u0027MONTH\u0027))\\\n        .filter(f.year(\"AvailableDtTm\") \u003d\u003d year)\\\n        .groupBy(\u0027MONTH\u0027)\\\n        .agg(f.count(\u0027*\u0027).alias(\u0027count(Calls)\u0027))\\\n        .sort(f.col(\u0027count(Calls)\u0027).desc())\\\n        .limit(1)\\\n        .show()"
    },
    {
      "cell_type": "markdown",
      "metadata": {},
      "source": "# which neighborhood in San Francisco generated the most fire calls in 2018?"
    },
    {
      "cell_type": "code",
      "execution_count": 7,
      "metadata": {
        "autoscroll": "auto"
      },
      "outputs": [],
      "source": "%pyspark\ncity \u003d \u0027FRANCISCO\u0027\nyear \u003d 2018\ndf_calls.select(\"Neighborhood\")\\\n        .filter(f.year(\"AvailableDtTm\") \u003d\u003d year)\\\n        .filter(df_calls[\"Address\"].contains(city))\\\n        .groupBy(\u0027Neighborhood\u0027)\\\n        .agg(f.count(\u0027*\u0027).alias(\u0027count(Calls)\u0027))\\\n        .sort(f.col(\u0027count(Calls)\u0027).desc())\\\n        .show()"
    },
    {
      "cell_type": "code",
      "execution_count": 8,
      "metadata": {
        "autoscroll": "auto"
      },
      "outputs": [],
      "source": "%pyspark\ndf_calls.select(\"Neighborhood\")\\\n        .filter(f.year(\"AvailableDtTm\") \u003d\u003d year)\\\n        .filter(df_calls[\"Address\"].contains(city))\\\n        .groupBy(\u0027Neighborhood\u0027)\\\n        .agg(f.count(\u0027*\u0027).alias(\u0027count(Calls)\u0027))\\\n        .sort(f.col(\u0027count(Calls)\u0027).desc())\\\n        .limit(1)\\\n        .show()"
    },
    {
      "cell_type": "markdown",
      "metadata": {},
      "source": "# which neighborhoods had the worst response times to fire calls in 2018?"
    },
    {
      "cell_type": "code",
      "execution_count": 10,
      "metadata": {
        "autoscroll": "auto"
      },
      "outputs": [],
      "source": "%pyspark\nyear \u003d 2018\ndf_calls.select(\"Neighborhood\", \"Delay\")\\\n        .filter(f.year(\"AvailableDtTm\") \u003d\u003d year)\\\n        .groupBy(\u0027Neighborhood\u0027)\\\n        .agg(f.mean(\u0027Delay\u0027).alias(\u0027mean(Delay)\u0027))\\\n        .sort(f.col(\u0027mean(Delay)\u0027).desc())\\\n        .show()"
    },
    {
      "cell_type": "code",
      "execution_count": 11,
      "metadata": {
        "autoscroll": "auto"
      },
      "outputs": [],
      "source": "%pyspark\ndf_calls.select(\"Neighborhood\", \"Delay\")\\\n        .filter(f.year(\"AvailableDtTm\") \u003d\u003d year)\\\n        .groupBy(\u0027Neighborhood\u0027)\\\n        .agg(f.mean(\u0027Delay\u0027).alias(\u0027mean(Delay)\u0027))\\\n        .sort(f.col(\u0027mean(Delay)\u0027).desc())\\\n        .limit(1)\\\n        .show()"
    },
    {
      "cell_type": "markdown",
      "metadata": {},
      "source": "# which week in the year in 2018 had the most fire calls?"
    },
    {
      "cell_type": "code",
      "execution_count": 13,
      "metadata": {
        "autoscroll": "auto"
      },
      "outputs": [],
      "source": "%pyspark\nyear \u003d 2018\ndf_calls.select(\"AvailableDtTm\")\\\n        .filter(f.year(\"AvailableDtTm\") \u003d\u003d year)\\\n        .select(f.weekofyear(\"AvailableDtTm\").alias(\u0027weekOfYear\u0027))\\\n        .groupBy(\u0027weekOfYear\u0027)\\\n        .agg(f.count(\u0027*\u0027).alias(\u0027count(weekOfYear)\u0027))\\\n        .sort(f.col(\u0027count(weekOfYear)\u0027).desc())\\\n        .show()"
    },
    {
      "cell_type": "code",
      "execution_count": 14,
      "metadata": {
        "autoscroll": "auto"
      },
      "outputs": [],
      "source": "%pyspark\nyear \u003d 2018\ndf_calls.select(\"AvailableDtTm\")\\\n        .filter(f.year(\"AvailableDtTm\") \u003d\u003d year)\\\n        .select(f.weekofyear(\"AvailableDtTm\").alias(\u0027weekOfYear\u0027))\\\n        .groupBy(\u0027weekOfYear\u0027)\\\n        .agg(f.count(\u0027*\u0027).alias(\u0027count(weekOfYear)\u0027))\\\n        .sort(f.col(\u0027count(weekOfYear)\u0027).desc())\\\n        .limit(1)\\\n        .show()\n"
    }
  ]
}