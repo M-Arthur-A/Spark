﻿{
  "metadata": {
    "name": "HW1",
    "kernelspec": {
      "language": "scala",
      "name": "spark2-scala"
    },
    "language_info": {
      "codemirror_mode": "text/x-scala",
      "file_extension": ".scala",
      "mimetype": "text/x-scala",
      "name": "scala",
      "pygments_lexer": "scala"
    }
  },
  "nbformat": 4,
  "nbformat_minor": 2,
  "cells": [
    {
      "cell_type": "code",
      "execution_count": 0,
      "metadata": {
        "autoscroll": "auto"
      },
      "outputs": [],
      "source": "%pyspark\ndf \u003d spark.table(\"homework.bank\")\nz.show(df.limit(10))"
    },
    {
      "cell_type": "code",
      "execution_count": 1,
      "metadata": {
        "autoscroll": "auto"
      },
      "outputs": [],
      "source": "%pyspark\n#1. Построить распределения клиентов по возрастам\nz.show(spark.sql(\"\"\"\nselect age, count(day) from homework.bank group by age order by age\n\"\"\"))"
    },
    {
      "cell_type": "code",
      "execution_count": 2,
      "metadata": {
        "autoscroll": "auto"
      },
      "outputs": [],
      "source": "%pyspark\n#2. Распределение по возрасту с динамическим численным параметром max_age\nz.show(\n    spark.sql(\"\"\"\nselect \n    age, count(day) \nfrom homework.bank \nwhere age \u003c\u003d {}\ngroup by age \norder by age\n\"\"\".format(z.input(\"age threshold\", 100))\n            )\n      )"
    },
    {
      "cell_type": "code",
      "execution_count": 3,
      "metadata": {
        "autoscroll": "auto"
      },
      "outputs": [],
      "source": "%pyspark\n# 3. Распределение по возрасту с динамическим параметром “marital”\n# gathering options\noptions \u003d spark.sql(\"\"\"\nselect \n    marital \nfrom homework.bank \ngroup by marital \norder by marital\n\"\"\").collect()\noptions \u003d [str(\"\u0027\"+item[0]+\"\u0027\") for item in options]\noptions \u003d zip(options, options)\nz.show(\n    spark.sql(\"\"\"\nselect \n    age, count(day) \nfrom homework.bank \nwhere marital in ({})\ngroup by age \norder by age\n\"\"\".format(str(\", \".join(z.checkbox(\"choose martial:\", options, [options[1]]))))\n            )\n      )\n"
    }
  ]
}